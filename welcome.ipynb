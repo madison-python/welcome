{
 "cells": [
  {
   "cell_type": "markdown",
   "metadata": {
    "editable": true,
    "slideshow": {
     "slide_type": "slide"
    },
    "tags": []
   },
   "source": [
    "<h1><center>Welcome to MadPy!</center></h1>\n",
    "<br>\n",
    "<center><img src=\"img/madpy-logo.png\" alt=\"The MadPy Magpie\" width=\"35%\"/></center>"
   ]
  },
  {
   "cell_type": "markdown",
   "metadata": {
    "editable": true,
    "slideshow": {
     "slide_type": "skip"
    },
    "tags": []
   },
   "source": [
    "<style>\n",
    "table,td,tr,th {border:none!important}\n",
    "</style>"
   ]
  },
  {
   "cell_type": "markdown",
   "metadata": {
    "editable": true,
    "jp-MarkdownHeadingCollapsed": true,
    "slideshow": {
     "slide_type": "slide"
    },
    "tags": []
   },
   "source": [
    "# Organizers\n",
    "\n",
    "<table style=\"border:none; border-collapse:collapse; cellspacing:0; cellpadding:0\">\n",
    "  <tr>\n",
    "    <td><img src=\"img/edrogers.jpg\" alt=\"Ed Rogers\" style=\"width: 300px;\" /></td>\n",
    "    <td><img src=\"img/djhoese.jpg\" alt=\"David Hoese\" style=\"width: 300px;\" /></td>\n",
    "    <td><img src=\"img/joshkarpel.jpg\" alt=\"Josh Karpel\" style=\"width: 300px;\" /></td>\n",
    "  </tr><tr>\n",
    "    <td><p class=\"caption\">Ed Rogers</p></td>\n",
    "    <td><p class=\"caption\">David Hoese</p></td>\n",
    "    <td><p class=\"caption\">Josh Karpel</p></td>\n",
    "  </tr>\n",
    "</table>"
   ]
  },
  {
   "cell_type": "markdown",
   "metadata": {
    "editable": true,
    "slideshow": {
     "slide_type": "slide"
    },
    "tags": []
   },
   "source": [
    "# Code of Conduct\n",
    "\n",
    "**MadPy is a community group** and open to all experience levels. We are committed to **a safe, professional environment**\n",
    "\n",
    "### Our Commitment to You\n",
    "\n",
    "We are enthusiastically focused on improving our event and making it a place that is welcoming to all. All reports will be taken seriously, handled respectfully, and dealt with in a timely manner.\n",
    "\n",
    "Learn more about the MadPy Code of Conduct:\n",
    "\n",
    "https://github.com/madison-python/code-of-conduct\n"
   ]
  },
  {
   "cell_type": "code",
   "execution_count": 1,
   "metadata": {
    "editable": true,
    "slideshow": {
     "slide_type": "skip"
    },
    "tags": []
   },
   "outputs": [],
   "source": [
    "def expand(s: str) -> list[int]:\n",
    "  \"\"\"\n",
    "  Turn \"1-5,7,9,10-13\" into a list of numbers\n",
    "  \"\"\"\n",
    "  return [\n",
    "    num\n",
    "    for p in s.split(\",\")\n",
    "      for a, _, b in [p.partition(\"-\")]\n",
    "        for num in range(int(a), int(b or a) + 1)\n",
    "  ]"
   ]
  },
  {
   "cell_type": "markdown",
   "metadata": {
    "editable": true,
    "slideshow": {
     "slide_type": "slide"
    },
    "tags": []
   },
   "source": [
    "<img src=\"img/python-snip-expand-str.png\" alt=\"A screenshot of a snippet of python code\"/>"
   ]
  },
  {
   "cell_type": "code",
   "execution_count": 2,
   "metadata": {
    "editable": true,
    "slideshow": {
     "slide_type": "fragment"
    },
    "tags": []
   },
   "outputs": [
    {
     "data": {
      "text/plain": [
       "[1, 2, 3, 4, 5, 7, 9, 10, 11, 12, 13]"
      ]
     },
     "execution_count": 2,
     "metadata": {},
     "output_type": "execute_result"
    }
   ],
   "source": [
    "expand(\"1-5, 7, 9, 10-13\")"
   ]
  },
  {
   "cell_type": "markdown",
   "metadata": {
    "editable": true,
    "slideshow": {
     "slide_type": "slide"
    },
    "tags": []
   },
   "source": [
    "# Sponsor\n",
    "\n",
    "<center><img src=\"img/verve-logo.png\" alt=\"Sponsor Logo: Verve Industrial\" width=\"500px\"/></center>"
   ]
  },
  {
   "cell_type": "markdown",
   "metadata": {
    "editable": true,
    "slideshow": {
     "slide_type": "slide"
    },
    "tags": []
   },
   "source": [
    "# Want more MadPy?\n",
    "\n",
    "\n",
    "<table style=\"border:none; border-collapse:collapse; cellspacing:0; cellpadding:0\">\n",
    "  <tr style=\"background-color: transparent; border: none;\">\n",
    "    <td style=\"border: none;\"><img src=\"img/madpy-logo.png\" alt=\"MadPy\" style=\"width: 45px;\" /></td><td style=\"vertical-align: middle; border: none;\"><b><a href=\"https://madpy.com\">madpy.com</a></b></td>\n",
    "  </tr>\n",
    "  <tr style=\"background-color: transparent; border: none;\">\n",
    "    <td style=\"border: none;\"><img src=\"https://www.meetup.com/favicon.ico\" alt=\"Meetup\" style=\"width: 25px;\" /></td><td style=\"vertical-align: middle; border: none;\"><a href=\"https://www.meetup.com/madpython/\">meetup.com/madpython</a></td>\n",
    "  </tr>\n",
    "  <tr style=\"background-color: transparent; border: none;\">\n",
    "    <td style=\"border: none;\"><img src=\"https://www.github.com/favicon.ico\" alt=\"GitHub\" style=\"width: 25px;\" /></td><td style=\"vertical-align: middle; border: none;\"><a href=\"https://github.com/madison-python\">github.com/madison-python</a></td>\n",
    "  </tr>\n",
    "  <tr style=\"background-color: transparent; border: none;\">\n",
    "    <td style=\"border: none;\"><img src=\"img/fosstodon-logo.png\" alt=\"Mastodon\" style=\"width: 25px;\" /></td><td style=\"vertical-align: middle; border: none;\"><a href=\"https://fosstodon.org/@madpy\">fosstodon.org/@madpy</a></td>\n",
    "  </tr>\n",
    "  <tr style=\"background-color: transparent; border: none;\">\n",
    "    <td style=\"border: none;\"><img src=\"https://www.slack.com/favicon.ico\" alt=\"Slack\" style=\"width: 25px;\" /></td><td style=\"vertical-align: middle; border: none;\"><a href=\"https://slack.madpy.com\">slack.madpy.com</a></td>\n",
    "  </tr>\n",
    "  <tr style=\"background-color: transparent; border: none;\">\n",
    "    <td style=\"border: none;\"><img src=\"https://www.linkedin.com/favicon.ico\" alt=\"LinkedIn\" style=\"width: 25px;\" /></td><td style=\"vertical-align: middle; border: none;\"><a href=\"https://linkedin.com/company/madpy\">linkedin.com/company/madpy</a></td>\n",
    "  </tr>\n",
    "</table>\n"
   ]
  },
  {
   "cell_type": "markdown",
   "metadata": {
    "editable": true,
    "slideshow": {
     "slide_type": "slide"
    },
    "tags": []
   },
   "source": [
    "# The Best Way to Help MadPy\n",
    "\n",
    "### Talk to your employer about Sponsorship!"
   ]
  },
  {
   "attachments": {},
   "cell_type": "markdown",
   "metadata": {
    "editable": true,
    "slideshow": {
     "slide_type": "slide"
    },
    "tags": []
   },
   "source": [
    "# MadPy Quick Survey\n",
    "\n",
    "## Question 1: Social Media -- Where Should MadPy Be?\n",
    "\n",
    "<img src=\"img/qr-code-2024-12-12-MadPy-Social-Media.png\" alt=\"QR Code\" width=300px />\n",
    "\n",
    "https://www.bli.do/2024-12-12-MadPy-Social-Media"
   ]
  },
  {
   "attachments": {},
   "cell_type": "markdown",
   "metadata": {
    "editable": true,
    "slideshow": {
     "slide_type": "slide"
    },
    "tags": []
   },
   "source": [
    "# MadPy Quick Survey\n",
    "\n",
    "## Question 2: Office Hours -- Topics You Could Be A Mentor On\n",
    "\n",
    "<img src=\"img/qr-code-2024-12-12-MadPy-Office-Hours.png\" alt=\"QR Code\" width=300px />\n",
    "\n",
    "https://www.bli.do/2024-12-12-MadPy-Office-Hours"
   ]
  },
  {
   "attachments": {},
   "cell_type": "markdown",
   "metadata": {
    "editable": true,
    "slideshow": {
     "slide_type": "slide"
    },
    "tags": []
   },
   "source": [
    "# MadPy Quick Survey\n",
    "\n",
    "## Question 3: Favorite Event Types You Want To See More Of\n",
    "\n",
    "<img src=\"img/qr-code-2024-12-12-MadPy-Favorite-Events.png\" alt=\"QR Code\" width=300px />\n",
    "\n",
    "https://www.bli.do/2024-12-12-MadPy-Favorite-Events"
   ]
  },
  {
   "cell_type": "markdown",
   "metadata": {
    "editable": true,
    "slideshow": {
     "slide_type": "slide"
    },
    "tags": []
   },
   "source": [
    "<img src=\"https://madpy.com/static/images/2024-12-12-Tests-in-the-Real-World-Social-Card-1792x1024.png\" alt=\"Logo for the MadPy talk\" />"
   ]
  }
 ],
 "metadata": {
  "kernelspec": {
   "display_name": "Python 3 (ipykernel)",
   "language": "python",
   "name": "python3"
  },
  "language_info": {
   "codemirror_mode": {
    "name": "ipython",
    "version": 3
   },
   "file_extension": ".py",
   "mimetype": "text/x-python",
   "name": "python",
   "nbconvert_exporter": "python",
   "pygments_lexer": "ipython3",
   "version": "3.12.3"
  }
 },
 "nbformat": 4,
 "nbformat_minor": 4
}
