{
 "cells": [
  {
   "cell_type": "markdown",
   "metadata": {
    "editable": true,
    "slideshow": {
     "slide_type": "slide"
    },
    "tags": []
   },
   "source": [
    "<h1><center>Welcome to MadPy!</center></h1>\n",
    "<br>\n",
    "<center><img src=\"img/madpy-logo.png\" alt=\"The MadPy Magpie\" width=\"35%\"/></center>"
   ]
  },
  {
   "cell_type": "markdown",
   "metadata": {
    "editable": true,
    "slideshow": {
     "slide_type": "skip"
    },
    "tags": []
   },
   "source": [
    "<style>\n",
    "table,td,tr,th {border:none!important}\n",
    "</style>"
   ]
  },
  {
   "cell_type": "markdown",
   "metadata": {
    "editable": true,
    "slideshow": {
     "slide_type": "slide"
    },
    "tags": []
   },
   "source": [
    "# Organizers\n",
    "\n",
    "<table style=\"border:none; border-collapse:collapse; cellspacing:0; cellpadding:0\">\n",
    "  <tr>\n",
    "    <td><img src=\"img/edrogers.jpg\" alt=\"Ed Rogers\" style=\"width: 300px;\" /></td>\n",
    "    <td><img src=\"img/djhoese.jpg\" alt=\"David Hoese\" style=\"width: 300px;\" /></td>\n",
    "    <td><img src=\"img/joshkarpel.jpg\" alt=\"Josh Karpel\" style=\"width: 300px;\" /></td>\n",
    "  </tr><tr>\n",
    "    <td><p class=\"caption\">Ed Rogers</p></td>\n",
    "    <td><p class=\"caption\">David Hoese</p></td>\n",
    "    <td><p class=\"caption\">Josh Karpel</p></td>\n",
    "  </tr>\n",
    "</table>"
   ]
  },
  {
   "cell_type": "markdown",
   "metadata": {
    "editable": true,
    "slideshow": {
     "slide_type": "slide"
    },
    "tags": []
   },
   "source": [
    "# Code of Conduct\n",
    "\n",
    "**MadPy is a community group** and open to all experience levels. We are committed to **a safe, professional environment**\n",
    "\n",
    "### Ask Yourself\n",
    "\n",
    "> Does my behavior encourage newcomers to return to future MadPy events?\n",
    ">\n",
    "> Would someone who has never given a presentation at MadPy before be more likely to do so in the future?\n",
    "\n",
    "Learn more about the MadPy Code of Conduct:\n",
    "\n",
    "https://github.com/madison-python/code-of-conduct\n"
   ]
  },
  {
   "cell_type": "markdown",
   "metadata": {
    "editable": true,
    "slideshow": {
     "slide_type": "slide"
    },
    "tags": []
   },
   "source": [
    "# Sponsor\n",
    "\n",
    "<center><img src=\"img/Fetch_Rewards_Logo.jpg\" alt=\"Sponsor Logo: Fetch Rewards\" width=\"500px\"/></center>"
   ]
  },
  {
   "cell_type": "markdown",
   "metadata": {
    "editable": true,
    "slideshow": {
     "slide_type": "slide"
    },
    "tags": []
   },
   "source": [
    "# Want more MadPy?\n",
    "\n",
    "\n",
    "<table style=\"border:none; border-collapse:collapse; cellspacing:0; cellpadding:0\">\n",
    "  <tr style=\"background-color: transparent; border: none;\">\n",
    "    <td style=\"border: none;\"><img src=\"img/madpy-logo.png\" alt=\"MadPy\" style=\"width: 45px;\" /></td><td style=\"vertical-align: middle; border: none;\"><b><a href=\"https://madpy.com\">madpy.com</a></b></td>\n",
    "  </tr>\n",
    "  <tr style=\"background-color: transparent; border: none;\">\n",
    "    <td style=\"border: none;\"><img src=\"https://www.meetup.com/favicon.ico\" alt=\"Meetup\" style=\"width: 25px;\" /></td><td style=\"vertical-align: middle; border: none;\"><a href=\"https://www.meetup.com/madpython/\">meetup.com/madpython</a></td>\n",
    "  </tr>\n",
    "  <tr style=\"background-color: transparent; border: none;\">\n",
    "    <td style=\"border: none;\"><img src=\"https://www.github.com/favicon.ico\" alt=\"GitHub\" style=\"width: 25px;\" /></td><td style=\"vertical-align: middle; border: none;\"><a href=\"https://github.com/madison-python\">github.com/madison-python</a></td>\n",
    "  </tr>\n",
    "  <tr style=\"background-color: transparent; border: none;\">\n",
    "    <td style=\"border: none;\"><img src=\"https://fosstodon.org/favicon.ico\" alt=\"Mastodon\" style=\"width: 25px;\" /></td><td style=\"vertical-align: middle; border: none;\"><a href=\"https://fosstodon.org/@madpy\">fosstodon.org/@madpy</a></td>\n",
    "  </tr>\n",
    "  <tr style=\"background-color: transparent; border: none;\">\n",
    "    <td style=\"border: none;\"><img src=\"https://www.slack.com/favicon.ico\" alt=\"Slack\" style=\"width: 25px;\" /></td><td style=\"vertical-align: middle; border: none;\"><a href=\"https://slack.madpy.com\">slack.madpy.com</a></td>\n",
    "  </tr>\n",
    "</table>\n"
   ]
  },
  {
   "cell_type": "markdown",
   "metadata": {
    "editable": true,
    "slideshow": {
     "slide_type": "slide"
    },
    "tags": []
   },
   "source": [
    "# MadPy Meetings\n",
    "\n",
    "### If you have an idea for a talk you'd like to give, please reach out to Ed, Dave, or Josh"
   ]
  },
  {
   "cell_type": "markdown",
   "metadata": {
    "editable": true,
    "slideshow": {
     "slide_type": "slide"
    },
    "tags": []
   },
   "source": [
    "# MadPy Calendar\n",
    "\n",
    "**2nd Thursdays of the Month**\n",
    "<table style=\"width: 100%; table-layout: fixed; border:none; border-collapse:collapse; cellspacing:0; cellpadding:0\">\n",
    "    <tr>\n",
    "        <td style=\"width: 33%; text-align: center;\">\n",
    "            <img src=\"img/2024-04-11-gpu-programming-in-python-social-card-crop.png\" alt=\"GPU Programming in Python\" style=\"width: 100%; height: auto;\">\n",
    "        </td>\n",
    "        <td style=\"width: 33%; text-align: center;\">\n",
    "            <img src=\"https://madpy.com/static/images/2024-05-09-Mastering-Pythonic-Data-Validation-and-Transformation-with-Pydantic-social-card-2.png\" alt=\"Mastering Data Validation With Pydantic\" style=\"width: 100%; height: auto;\">\n",
    "        </td>\n",
    "        <td style=\"width: 33%; text-align: center;\">\n",
    "            <img src=\"img/2024-06-13-Concurrency-and-Parallelism-social-card-crop.png\" alt=\"Concurrency and Parallelism\" style=\"width: 100%; height: auto;\">\n",
    "        </td>\n",
    "    </tr>\n",
    "    <tr>\n",
    "        <td style=\"text-align: center;\">April 11th</td>\n",
    "        <td style=\"text-align: center;\">May 9th</td>\n",
    "        <td style=\"text-align: center;\">June 13th</td>\n",
    "    </tr>\n",
    "</table>\n",
    "\n",
    "Open to sponsorship for future meetings"
   ]
  }
 ],
 "metadata": {
  "kernelspec": {
   "display_name": "Python 3 (ipykernel)",
   "language": "python",
   "name": "python3"
  },
  "language_info": {
   "codemirror_mode": {
    "name": "ipython",
    "version": 3
   },
   "file_extension": ".py",
   "mimetype": "text/x-python",
   "name": "python",
   "nbconvert_exporter": "python",
   "pygments_lexer": "ipython3",
   "version": "3.10.7"
  }
 },
 "nbformat": 4,
 "nbformat_minor": 4
}
