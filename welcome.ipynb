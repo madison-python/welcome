{
 "cells": [
  {
   "cell_type": "markdown",
   "metadata": {
    "slideshow": {
     "slide_type": "slide"
    }
   },
   "source": [
    "<h1><center>Welcome to MadPy!</center></h1>\n",
    "<br>\n",
    "<center><img src=\"img/madpy-logo.png\" alt=\"The MadPy Magpy\" width=\"35%\"/></center>"
   ]
  },
  {
   "cell_type": "markdown",
   "metadata": {
    "slideshow": {
     "slide_type": "slide"
    }
   },
   "source": [
    "<style>\n",
    "table,td,tr,th {border:none!important}\n",
    "</style>\n",
    "\n",
    "# Organizers\n",
    "\n",
    "<table style=\"border:none; border-collapse:collapse; cellspacing:0; cellpadding:0\">\n",
    "  <tr>\n",
    "    <td><img src=\"img/edrogers.jpg\" alt=\"Ed Rogers\" style=\"width: 300px;\" /></td>\n",
    "    <td><img src=\"img/djhoese.jpg\" alt=\"David Hoese\" style=\"width: 300px;\" /></td>\n",
    "  </tr><tr>\n",
    "    <td><p class=\"caption\">Ed Rogers</p></td>\n",
    "    <td><p class=\"caption\">David Hoese</p></td>\n",
    "  </tr>\n",
    "</table>\n"
   ]
  },
  {
   "cell_type": "markdown",
   "metadata": {
    "slideshow": {
     "slide_type": "slide"
    }
   },
   "source": [
    "# Sponsor\n",
    "\n",
    "<img src=\"img/problem_solvers_guild.png\" alt=\"Sponsor Logo: Problem Solvers Guild\" height=\"200px\"/>"
   ]
  },
  {
   "cell_type": "markdown",
   "metadata": {
    "slideshow": {
     "slide_type": "slide"
    }
   },
   "source": [
    "# Want more MadPy?\n",
    "\n",
    "[**madpy.com**](https://madpy.com)  \n",
    "[meetup.com/madpython](https://www.meetup.com/madpython/)  \n",
    "[github.com/madison-python](https://github.com/madison-python)  \n",
    "[github.com/madison-python/welcome](https://github.com/madison-python/welcome)  \n",
    "[twitter.com/madisonpython](https://twitter.com/madisonpython)  \n",
    "[fosstodon.org/@madpy](https://fosstodon.org/@madpy)  \n",
    "\n",
    "### Join us on Slack\n",
    "\n",
    "[slack.madpy.com](https://slack.madpy.com) to sign up.  \n",
    "[madpy.slack.com](https://madpy.slack.com) to sign in.\n",
    "\n"
   ]
  },
  {
   "cell_type": "markdown",
   "metadata": {
    "slideshow": {
     "slide_type": "slide"
    }
   },
   "source": [
    "# MadPy Meetings\n",
    "\n",
    "### If you have you have an idea for a talk you'd like to give, please reach out to Ed or Dave"
   ]
  },
  {
   "cell_type": "markdown",
   "metadata": {
    "slideshow": {
     "slide_type": "slide"
    }
   },
   "source": [
    "# MadPy Calendar\n",
    "\n",
    "**2nd Thursdays of the Month**\n",
    "-   January 12th: Lightning Talks. Sign up at [madpy.com](https://madpy.com)\n",
    "-   February 9th: Hack Night?\n",
    "-   March 9th: ???\n",
    "\n",
    "Open to sponsorship"
   ]
  }
 ],
 "metadata": {
  "kernelspec": {
   "display_name": "Python 3",
   "language": "python",
   "name": "python3"
  },
  "language_info": {
   "codemirror_mode": {
    "name": "ipython",
    "version": 3
   },
   "file_extension": ".py",
   "mimetype": "text/x-python",
   "name": "python",
   "nbconvert_exporter": "python",
   "pygments_lexer": "ipython3",
   "version": "3.8.1"
  }
 },
 "nbformat": 4,
 "nbformat_minor": 4
}
