{
 "cells": [
  {
   "cell_type": "markdown",
   "metadata": {
    "editable": true,
    "slideshow": {
     "slide_type": "slide"
    },
    "tags": []
   },
   "source": [
    "<h1><center>Welcome to MadPy!</center></h1>\n",
    "<br>\n",
    "<center><img src=\"img/madpy-logo.png\" alt=\"The MadPy Magpie\" width=\"35%\"/></center>"
   ]
  },
  {
   "cell_type": "markdown",
   "metadata": {
    "editable": true,
    "slideshow": {
     "slide_type": "skip"
    },
    "tags": []
   },
   "source": [
    "<style>\n",
    "table,td,tr,th {border:none!important}\n",
    "</style>"
   ]
  },
  {
   "cell_type": "markdown",
   "metadata": {
    "editable": true,
    "jp-MarkdownHeadingCollapsed": true,
    "slideshow": {
     "slide_type": "slide"
    },
    "tags": []
   },
   "source": [
    "# Organizers\n",
    "\n",
    "<table style=\"border:none; border-collapse:collapse; cellspacing:0; cellpadding:0\">\n",
    "  <tr>\n",
    "    <td><img src=\"img/edrogers.jpg\" alt=\"Ed Rogers\" style=\"width: 300px;\" /></td>\n",
    "    <td><img src=\"img/djhoese.jpg\" alt=\"David Hoese\" style=\"width: 300px;\" /></td>\n",
    "    <td><img src=\"img/joshkarpel.jpg\" alt=\"Josh Karpel\" style=\"width: 300px;\" /></td>\n",
    "  </tr><tr>\n",
    "    <td><p class=\"caption\">Ed Rogers</p></td>\n",
    "    <td><p class=\"caption\">David Hoese</p></td>\n",
    "    <td><p class=\"caption\">Josh Karpel</p></td>\n",
    "  </tr>\n",
    "</table>"
   ]
  },
  {
   "cell_type": "markdown",
   "metadata": {
    "editable": true,
    "slideshow": {
     "slide_type": "slide"
    },
    "tags": []
   },
   "source": [
    "# Code of Conduct\n",
    "\n",
    "**MadPy is a community group** and open to all experience levels. We are committed to **a safe, professional environment**\n",
    "\n",
    "### Our Commitment to You\n",
    "\n",
    "We are enthusiastically focused on improving our event and making it a place that is welcoming to all. All reports will be taken seriously, handled respectfully, and dealt with in a timely manner.\n",
    "\n",
    "Learn more about the MadPy Code of Conduct:\n",
    "\n",
    "https://github.com/madison-python/code-of-conduct\n"
   ]
  },
  {
   "cell_type": "markdown",
   "metadata": {
    "editable": true,
    "slideshow": {
     "slide_type": "slide"
    },
    "tags": []
   },
   "source": [
    "# Sponsor\n",
    "\n",
    "<center><img src=\"img/workday-logo.png\" alt=\"Sponsor Logo: Workday\" width=\"500px\"/></center>"
   ]
  },
  {
   "cell_type": "markdown",
   "metadata": {
    "editable": true,
    "slideshow": {
     "slide_type": "slide"
    },
    "tags": []
   },
   "source": [
    "# Want more MadPy?\n",
    "\n",
    "\n",
    "<table style=\"border:none; border-collapse:collapse; cellspacing:0; cellpadding:0\">\n",
    "  <tr style=\"background-color: transparent; border: none;\">\n",
    "    <td style=\"border: none;\"><img src=\"img/madpy-logo.png\" alt=\"MadPy\" style=\"width: 45px;\" /></td><td style=\"vertical-align: middle; border: none;\"><b><a href=\"https://madpy.com\">madpy.com</a></b></td>\n",
    "  </tr>\n",
    "  <tr style=\"background-color: transparent; border: none;\">\n",
    "    <td style=\"border: none;\"><img src=\"img/meetup-logo.png\" alt=\"Meetup\" style=\"width: 25px;\" /></td><td style=\"vertical-align: middle; border: none;\"><a href=\"https://www.meetup.com/madpython/\">meetup.com/madpython</a></td>\n",
    "  </tr>\n",
    "  <tr style=\"background-color: transparent; border: none;\">\n",
    "    <td style=\"border: none;\"><img src=\"img/github-logo.png\" alt=\"GitHub\" style=\"width: 25px;\" /></td><td style=\"vertical-align: middle; border: none;\"><a href=\"https://github.com/madison-python\">github.com/madison-python</a></td>\n",
    "  </tr>\n",
    "  <tr style=\"background-color: transparent; border: none;\">\n",
    "    <td style=\"border: none;\"><img src=\"img/fosstodon-logo.png\" alt=\"Mastodon\" style=\"width: 25px;\" /></td><td style=\"vertical-align: middle; border: none;\"><a href=\"https://fosstodon.org/@madpy\">fosstodon.org/@madpy</a></td>\n",
    "  </tr>\n",
    "  <tr style=\"background-color: transparent; border: none;\">\n",
    "    <td style=\"border: none;\"><img src=\"img/slack-logo.png\" alt=\"Slack\" style=\"width: 25px;\" /></td><td style=\"vertical-align: middle; border: none;\"><a href=\"https://slack.madpy.com\">slack.madpy.com</a></td>\n",
    "  </tr>\n",
    "  <tr style=\"background-color: transparent; border: none;\">\n",
    "    <td style=\"border: none;\"><img src=\"img/linkedin-logo.png\" alt=\"LinkedIn\" style=\"width: 25px;\" /></td><td style=\"vertical-align: middle; border: none;\"><a href=\"https://linkedin.com/company/madpy\">linkedin.com/company/madpy</a></td>\n",
    "  </tr>\n",
    "</table>\n"
   ]
  },
  {
   "cell_type": "markdown",
   "metadata": {
    "editable": true,
    "slideshow": {
     "slide_type": "slide"
    },
    "tags": []
   },
   "source": [
    "<table>\n",
    "    <tr>\n",
    "        <td>\n",
    "            <img src=\"https://madpy.com/static/images/bookclub-logo.png\", width=500px alt=\"Drawing of a magpie reading books\"/>\n",
    "        </td>\n",
    "        <td>\n",
    "            <h1>MadPy Book&nbsp;Club</h1>\n",
    "            <h3>New book starts Monday!</h3>\n",
    "            <h5><strong><u>Operating Systems: Three Easy Pieces</u></strong><br />\n",
    "                by Remzi H and Andrea C Arpaci-Dusseau</h5>\n",
    "            <h6><i>Previous books:</i>\n",
    "            <uo>\n",
    "                <li><u>Designing Data-Intensive Applications</u></li>\n",
    "                <li>The Mojo 🔥 Manual</li>\n",
    "                <li><u>Crafting Intepreters</u></li>\n",
    "            </uo></h6>\n",
    "            <h5>Learn more at <strong><a href=\"https://madpy.com/bookclub\">madpy.com/bookclub</a></strong></h5>\n",
    "        </td>\n",
    "    </tr>\n",
    "</table>"
   ]
  },
  {
   "cell_type": "markdown",
   "metadata": {
    "editable": true,
    "slideshow": {
     "slide_type": "slide"
    },
    "tags": []
   },
   "source": [
    "# The Best Way to Help MadPy\n",
    "\n",
    "### Talk to your employer about Sponsorship!"
   ]
  },
  {
   "cell_type": "markdown",
   "metadata": {
    "editable": true,
    "slideshow": {
     "slide_type": "slide"
    },
    "tags": []
   },
   "source": [
    "# MadPy Calendar\n",
    "\n",
    "**2nd Thursdays of the Month**\n",
    "<table style=\"width: 100%; table-layout: fixed; border:none; border-collapse:collapse; cellspacing:0; cellpadding:0\">\n",
    "    <tr>\n",
    "        <td style=\"width: 64%; text-align: center;\">\n",
    "            <img src=\"https://madpy.com/static/images/2025-03-13-Improving-Receipt-Understanding-Social-Card-1792x1024.png\" alt=\"Improving Receipt Understanding @ Fetch\" style=\"width: 100%; height: auto;\">\n",
    "        </td>\n",
    "        <td style=\"width: 36%; text-align: center;\">\n",
    "            <img src=\"img/qr-code-2025-03-13-rsvp.png\" alt=\"TBD\" style=\"width: 100%; height: auto;\">\n",
    "        </td>\n",
    "    </tr>\n",
    "    <tr>\n",
    "        <td style=\"text-align: center;\">March 13th</td>\n",
    "        <td style=\"text-align: center;\"><strong>Online RSVP Required</strong><br><a href=\"https://lu.ma/uc9se65d\">https://lu.ma/uc9se65d</a></td>\n",
    "    </tr>\n",
    "</table>"
   ]
  },
  {
   "cell_type": "markdown",
   "metadata": {
    "editable": true,
    "slideshow": {
     "slide_type": "slide"
    },
    "tags": []
   },
   "source": [
    "<img src=\"https://madpy.com/static/images/2025-02-13-What-Is-Git-Social-Card-1792x1024.png\" alt=\"Logo for the MadPy talk\" />"
   ]
  }
 ],
 "metadata": {
  "kernelspec": {
   "display_name": "Python 3 (ipykernel)",
   "language": "python",
   "name": "python3"
  },
  "language_info": {
   "codemirror_mode": {
    "name": "ipython",
    "version": 3
   },
   "file_extension": ".py",
   "mimetype": "text/x-python",
   "name": "python",
   "nbconvert_exporter": "python",
   "pygments_lexer": "ipython3",
   "version": "3.13.1"
  }
 },
 "nbformat": 4,
 "nbformat_minor": 4
}
