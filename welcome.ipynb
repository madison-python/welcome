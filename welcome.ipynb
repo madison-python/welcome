{
 "cells": [
  {
   "cell_type": "markdown",
   "metadata": {
    "editable": true,
    "jp-MarkdownHeadingCollapsed": true,
    "slideshow": {
     "slide_type": "slide"
    },
    "tags": []
   },
   "source": [
    "<h1><center>Welcome to MadPy!</center></h1>\n",
    "<br>\n",
    "<center><img src=\"img/madpy-logo.png\" alt=\"The MadPy Magpie\" width=\"35%\"/></center>"
   ]
  },
  {
   "cell_type": "markdown",
   "metadata": {
    "editable": true,
    "slideshow": {
     "slide_type": "skip"
    },
    "tags": []
   },
   "source": [
    "<style>\n",
    "table,td,tr,th {border:none!important}\n",
    "</style>"
   ]
  },
  {
   "cell_type": "markdown",
   "metadata": {
    "editable": true,
    "jp-MarkdownHeadingCollapsed": true,
    "slideshow": {
     "slide_type": "slide"
    },
    "tags": []
   },
   "source": [
    "# Organizers\n",
    "\n",
    "<table style=\"border:none; border-collapse:collapse; cellspacing:0; cellpadding:0\">\n",
    "  <tr>\n",
    "    <td><img src=\"img/edrogers.jpg\" alt=\"Ed Rogers\" style=\"width: 300px;\" /></td>\n",
    "    <td><img src=\"img/djhoese.jpg\" alt=\"David Hoese\" style=\"width: 300px;\" /></td>\n",
    "    <td><img src=\"img/joshkarpel.jpg\" alt=\"Josh Karpel\" style=\"width: 300px;\" /></td>\n",
    "  </tr><tr>\n",
    "    <td><p class=\"caption\">Ed Rogers</p></td>\n",
    "    <td><p class=\"caption\">David Hoese</p></td>\n",
    "    <td><p class=\"caption\">Josh Karpel</p></td>\n",
    "  </tr>\n",
    "</table>"
   ]
  },
  {
   "cell_type": "markdown",
   "metadata": {
    "editable": true,
    "slideshow": {
     "slide_type": "slide"
    },
    "tags": []
   },
   "source": [
    "# Code of Conduct\n",
    "\n",
    "**MadPy is a community group** and open to all experience levels. We are committed to **a safe, professional environment**\n",
    "\n",
    "### Our Commitment to You\n",
    "\n",
    "We are enthusiastically focused on improving our event and making it a place that is welcoming to all. All reports will be taken seriously, handled respectfully, and dealt with in a timely manner.\n",
    "\n",
    "Learn more about the MadPy Code of Conduct:\n",
    "\n",
    "https://github.com/madison-python/code-of-conduct\n"
   ]
  },
  {
   "cell_type": "markdown",
   "metadata": {
    "editable": true,
    "slideshow": {
     "slide_type": "slide"
    },
    "tags": []
   },
   "source": [
    "# Python Warm-Up"
   ]
  },
  {
   "cell_type": "code",
   "execution_count": 1,
   "metadata": {
    "editable": true,
    "slideshow": {
     "slide_type": ""
    },
    "tags": []
   },
   "outputs": [
    {
     "data": {
      "text/plain": [
       "'Hi Ed Rogers!'"
      ]
     },
     "execution_count": 1,
     "metadata": {},
     "output_type": "execute_result"
    }
   ],
   "source": [
    "name = \"Ed Rogers\"\n",
    "\n",
    "message = f\"Hi {name}!\"\n",
    "message"
   ]
  },
  {
   "cell_type": "code",
   "execution_count": 2,
   "metadata": {
    "editable": true,
    "slideshow": {
     "slide_type": "slide"
    },
    "tags": []
   },
   "outputs": [
    {
     "name": "stdout",
     "output_type": "stream",
     "text": [
      "Python 3.14.0b1\n"
     ]
    }
   ],
   "source": [
    "import sys\n",
    "!{sys.executable} -V"
   ]
  },
  {
   "cell_type": "markdown",
   "metadata": {
    "editable": true,
    "slideshow": {
     "slide_type": ""
    },
    "tags": []
   },
   "source": [
    "## Introducing `t` Strings\n",
    "\n",
    "Coming to Python 3.14"
   ]
  },
  {
   "cell_type": "code",
   "execution_count": 3,
   "metadata": {
    "editable": true,
    "slideshow": {
     "slide_type": ""
    },
    "tags": []
   },
   "outputs": [
    {
     "data": {
      "text/plain": [
       "Template(strings=('Hi ', '!'), interpolations=(Interpolation('Ed Rogers', 'name', None, ''),))"
      ]
     },
     "execution_count": 3,
     "metadata": {},
     "output_type": "execute_result"
    }
   ],
   "source": [
    "name = \"Ed Rogers\"\n",
    "\n",
    "message_template = t\"Hi {name}!\"\n",
    "message_template"
   ]
  },
  {
   "cell_type": "markdown",
   "metadata": {
    "editable": true,
    "slideshow": {
     "slide_type": "slide"
    },
    "tags": []
   },
   "source": [
    "### A Use Case"
   ]
  },
  {
   "cell_type": "markdown",
   "metadata": {
    "editable": true,
    "slideshow": {
     "slide_type": ""
    },
    "tags": []
   },
   "source": [
    "Dave takes names, and makes cool greetings!"
   ]
  },
  {
   "cell_type": "code",
   "execution_count": 4,
   "metadata": {
    "editable": true,
    "slideshow": {
     "slide_type": ""
    },
    "tags": []
   },
   "outputs": [],
   "source": [
    "from random import choice, seed\n",
    "seed(7)\n",
    "\n",
    "def daves_cool_greeting_tool(name):\n",
    "    return choice([\n",
    "        f\"Howdy {name}!\",\n",
    "        f\"Konichiwa {name}!\",\n",
    "        f\"Hey {name}, looking good!\",\n",
    "        f\"We all <3 you, {name}!\",\n",
    "    ])"
   ]
  },
  {
   "cell_type": "markdown",
   "metadata": {
    "editable": true,
    "slideshow": {
     "slide_type": ""
    },
    "tags": []
   },
   "source": [
    "Ed takes messages, and turns them into HTML..."
   ]
  },
  {
   "cell_type": "code",
   "execution_count": 5,
   "metadata": {
    "editable": true,
    "slideshow": {
     "slide_type": ""
    },
    "tags": []
   },
   "outputs": [],
   "source": [
    "def eds_cool_html_renderer(message):\n",
    "    return \"<h1>\" + message + \"</h1>\""
   ]
  },
  {
   "cell_type": "code",
   "execution_count": 6,
   "metadata": {
    "editable": true,
    "slideshow": {
     "slide_type": "slide"
    },
    "tags": []
   },
   "outputs": [
    {
     "data": {
      "text/plain": [
       "'Hey Ed Rogers, looking good!'"
      ]
     },
     "execution_count": 6,
     "metadata": {},
     "output_type": "execute_result"
    }
   ],
   "source": [
    "daves_cool_greeting_tool(name)"
   ]
  },
  {
   "cell_type": "code",
   "execution_count": 7,
   "metadata": {
    "editable": true,
    "slideshow": {
     "slide_type": ""
    },
    "tags": []
   },
   "outputs": [
    {
     "data": {
      "text/plain": [
       "'<h1>Konichiwa Ed Rogers!</h1>'"
      ]
     },
     "execution_count": 7,
     "metadata": {},
     "output_type": "execute_result"
    }
   ],
   "source": [
    "eds_cool_html_renderer(daves_cool_greeting_tool(name))"
   ]
  },
  {
   "cell_type": "code",
   "execution_count": 8,
   "metadata": {
    "editable": true,
    "slideshow": {
     "slide_type": "slide"
    },
    "tags": []
   },
   "outputs": [
    {
     "data": {
      "text/html": [
       "<h1>We all <3 you, Ed Rogers!</h1>"
      ],
      "text/plain": [
       "<IPython.core.display.HTML object>"
      ]
     },
     "execution_count": 8,
     "metadata": {},
     "output_type": "execute_result"
    }
   ],
   "source": [
    "from IPython.core.display import HTML\n",
    "\n",
    "HTML(eds_cool_html_renderer(daves_cool_greeting_tool(name)))"
   ]
  },
  {
   "cell_type": "markdown",
   "metadata": {
    "editable": true,
    "slideshow": {
     "slide_type": "slide"
    },
    "tags": []
   },
   "source": [
    "### A challenger appears"
   ]
  },
  {
   "cell_type": "code",
   "execution_count": 9,
   "metadata": {
    "editable": true,
    "slideshow": {
     "slide_type": ""
    },
    "tags": []
   },
   "outputs": [],
   "source": [
    "joshs_full_name = \"\"\"Josh <script>alert(\"evil\")</script> Karpel\"\"\""
   ]
  },
  {
   "cell_type": "code",
   "execution_count": 10,
   "metadata": {
    "editable": true,
    "slideshow": {
     "slide_type": "fragment"
    },
    "tags": []
   },
   "outputs": [
    {
     "data": {
      "text/plain": [
       "'Howdy Josh <script>alert(\"evil\")</script> Karpel!'"
      ]
     },
     "execution_count": 10,
     "metadata": {},
     "output_type": "execute_result"
    }
   ],
   "source": [
    "daves_cool_greeting_tool(joshs_full_name)"
   ]
  },
  {
   "cell_type": "code",
   "execution_count": 11,
   "metadata": {
    "editable": true,
    "slideshow": {
     "slide_type": ""
    },
    "tags": []
   },
   "outputs": [
    {
     "data": {
      "text/plain": [
       "'<h1>Howdy Josh <script>alert(\"evil\")</script> Karpel!</h1>'"
      ]
     },
     "execution_count": 11,
     "metadata": {},
     "output_type": "execute_result"
    }
   ],
   "source": [
    "eds_cool_html_renderer(daves_cool_greeting_tool(joshs_full_name))"
   ]
  },
  {
   "cell_type": "code",
   "execution_count": 12,
   "metadata": {
    "editable": true,
    "slideshow": {
     "slide_type": ""
    },
    "tags": []
   },
   "outputs": [
    {
     "data": {
      "text/html": [
       "<h1>Howdy Josh <script>alert(\"evil\")</script> Karpel!</h1>"
      ],
      "text/plain": [
       "<IPython.core.display.HTML object>"
      ]
     },
     "execution_count": 12,
     "metadata": {},
     "output_type": "execute_result"
    }
   ],
   "source": [
    "HTML(eds_cool_html_renderer(daves_cool_greeting_tool(joshs_full_name)))"
   ]
  },
  {
   "cell_type": "code",
   "execution_count": 13,
   "metadata": {
    "editable": true,
    "slideshow": {
     "slide_type": "slide"
    },
    "tags": []
   },
   "outputs": [],
   "source": [
    "def daves_cool_greeting_tool(name):\n",
    "    return choice([\n",
    "        f\"Howdy {name}!\",\n",
    "        f\"Konichiwa {name}!\",\n",
    "        f\"Hey {name}, looking good!\",\n",
    "        f\"We all <3 you, {name}!\",\n",
    "    ])"
   ]
  },
  {
   "cell_type": "code",
   "execution_count": 14,
   "metadata": {
    "editable": true,
    "slideshow": {
     "slide_type": ""
    },
    "tags": []
   },
   "outputs": [],
   "source": [
    "def eds_cool_html_renderer(message):\n",
    "    return \"<h1>\" + message + \"</h1>\""
   ]
  },
  {
   "cell_type": "markdown",
   "metadata": {
    "editable": true,
    "slideshow": {
     "slide_type": "slide"
    },
    "tags": []
   },
   "source": [
    "### Using a `t` String"
   ]
  },
  {
   "cell_type": "code",
   "execution_count": 15,
   "metadata": {
    "editable": true,
    "slideshow": {
     "slide_type": ""
    },
    "tags": []
   },
   "outputs": [
    {
     "data": {
      "text/plain": [
       "Template(strings=('We all <3 you, ', '!'), interpolations=(Interpolation('Josh <script>alert(\"evil\")</script> Karpel', 'joshs_full_name', None, ''),))"
      ]
     },
     "execution_count": 15,
     "metadata": {},
     "output_type": "execute_result"
    }
   ],
   "source": [
    "greeting_template = t\"We all <3 you, {joshs_full_name}!\"\n",
    "greeting_template"
   ]
  },
  {
   "cell_type": "code",
   "execution_count": 16,
   "metadata": {
    "editable": true,
    "slideshow": {
     "slide_type": "fragment"
    },
    "tags": []
   },
   "outputs": [],
   "source": [
    "from string.templatelib import Template, Interpolation\n",
    "import html\n",
    "\n",
    "def safe_f(template: Template) -> str:\n",
    "    \"\"\"Implement f-string behavior using the PEP 750 t-string behavior.\"\"\"\n",
    "    parts = []\n",
    "    for item in template:\n",
    "        match item:\n",
    "            case str() as s:\n",
    "                parts.append(s)\n",
    "            case Interpolation(value, _, conversion, format_spec):\n",
    "                value = format(html.escape(value), format_spec)\n",
    "                parts.append(value)\n",
    "    return \"\".join(parts)    "
   ]
  },
  {
   "cell_type": "code",
   "execution_count": 17,
   "metadata": {
    "editable": true,
    "slideshow": {
     "slide_type": "slide"
    },
    "tags": []
   },
   "outputs": [
    {
     "data": {
      "text/plain": [
       "'We all <3 you, Josh &lt;script&gt;alert(&quot;evil&quot;)&lt;/script&gt; Karpel!'"
      ]
     },
     "execution_count": 17,
     "metadata": {},
     "output_type": "execute_result"
    }
   ],
   "source": [
    "safe_f(greeting_template)"
   ]
  },
  {
   "cell_type": "code",
   "execution_count": 18,
   "metadata": {
    "editable": true,
    "slideshow": {
     "slide_type": "slide"
    },
    "tags": []
   },
   "outputs": [],
   "source": [
    "def daves_cool_greeting_tool(name):\n",
    "    greeting = choice(\n",
    "        [\n",
    "            t\"Howdy {name}!\",\n",
    "            t\"Konichiwa {name}!\",\n",
    "            t\"Hey {name}, looking good!\",\n",
    "            t\"We all <3 you, {name}!\",\n",
    "        ]\n",
    "    )\n",
    "    return greeting"
   ]
  },
  {
   "cell_type": "code",
   "execution_count": 19,
   "metadata": {
    "editable": true,
    "slideshow": {
     "slide_type": ""
    },
    "tags": []
   },
   "outputs": [],
   "source": [
    "def eds_cool_html_renderer(message_template):\n",
    "    return \"<h1>\" + safe_f(message_template) + \"</h1>\""
   ]
  },
  {
   "cell_type": "code",
   "execution_count": 20,
   "metadata": {
    "editable": true,
    "slideshow": {
     "slide_type": "slide"
    },
    "tags": []
   },
   "outputs": [
    {
     "data": {
      "text/plain": [
       "Template(strings=('Hey ', ', looking good!'), interpolations=(Interpolation('Josh <script>alert(\"evil\")</script> Karpel', 'name', None, ''),))"
      ]
     },
     "execution_count": 20,
     "metadata": {},
     "output_type": "execute_result"
    }
   ],
   "source": [
    "daves_cool_greeting_tool(joshs_full_name)"
   ]
  },
  {
   "cell_type": "code",
   "execution_count": 21,
   "metadata": {
    "editable": true,
    "slideshow": {
     "slide_type": ""
    },
    "tags": []
   },
   "outputs": [
    {
     "data": {
      "text/plain": [
       "'<h1>Howdy Josh &lt;script&gt;alert(&quot;evil&quot;)&lt;/script&gt; Karpel!</h1>'"
      ]
     },
     "execution_count": 21,
     "metadata": {},
     "output_type": "execute_result"
    }
   ],
   "source": [
    "eds_cool_html_renderer(daves_cool_greeting_tool(joshs_full_name))"
   ]
  },
  {
   "cell_type": "code",
   "execution_count": 22,
   "metadata": {
    "editable": true,
    "slideshow": {
     "slide_type": ""
    },
    "tags": []
   },
   "outputs": [
    {
     "data": {
      "text/html": [
       "<h1>Konichiwa Josh &lt;script&gt;alert(&quot;evil&quot;)&lt;/script&gt; Karpel!</h1>"
      ],
      "text/plain": [
       "<IPython.core.display.HTML object>"
      ]
     },
     "execution_count": 22,
     "metadata": {},
     "output_type": "execute_result"
    }
   ],
   "source": [
    "HTML(eds_cool_html_renderer(daves_cool_greeting_tool(joshs_full_name)))"
   ]
  },
  {
   "cell_type": "markdown",
   "metadata": {
    "editable": true,
    "slideshow": {
     "slide_type": "slide"
    },
    "tags": []
   },
   "source": [
    "# Sponsor\n",
    "\n",
    "<center><img src=\"img/apartmentiq_logo.png\" alt=\"Sponsor Logo: ApartmentIQ\" width=\"500px\"/></center>"
   ]
  },
  {
   "cell_type": "markdown",
   "metadata": {
    "editable": true,
    "slideshow": {
     "slide_type": "slide"
    },
    "tags": []
   },
   "source": [
    "# Want more MadPy?\n",
    "\n",
    "\n",
    "<table style=\"border:none; border-collapse:collapse; cellspacing:0; cellpadding:0\">\n",
    "  <tr style=\"background-color: transparent; border: none;\">\n",
    "    <td style=\"border: none;\"><img src=\"img/madpy-logo.png\" alt=\"MadPy\" style=\"width: 45px;\" /></td><td style=\"vertical-align: middle; border: none;\"><b><a href=\"https://madpy.com\">madpy.com</a></b></td>\n",
    "  </tr>\n",
    "  <tr style=\"background-color: transparent; border: none;\">\n",
    "    <td style=\"border: none;\"><img src=\"img/meetup-logo.png\" alt=\"Meetup\" style=\"width: 25px;\" /></td><td style=\"vertical-align: middle; border: none;\"><a href=\"https://www.meetup.com/madpython/\">meetup.com/madpython</a></td>\n",
    "  </tr>\n",
    "  <tr style=\"background-color: transparent; border: none;\">\n",
    "    <td style=\"border: none;\"><img src=\"img/github-logo.png\" alt=\"GitHub\" style=\"width: 25px;\" /></td><td style=\"vertical-align: middle; border: none;\"><a href=\"https://github.com/madison-python\">github.com/madison-python</a></td>\n",
    "  </tr>\n",
    "  <tr style=\"background-color: transparent; border: none;\">\n",
    "    <td style=\"border: none;\"><img src=\"img/fosstodon-logo.png\" alt=\"Mastodon\" style=\"width: 25px;\" /></td><td style=\"vertical-align: middle; border: none;\"><a href=\"https://fosstodon.org/@madpy\">fosstodon.org/@madpy</a></td>\n",
    "  </tr>\n",
    "  <tr style=\"background-color: transparent; border: none;\">\n",
    "    <td style=\"border: none;\"><img src=\"img/slack-logo.png\" alt=\"Slack\" style=\"width: 25px;\" /></td><td style=\"vertical-align: middle; border: none;\"><a href=\"https://slack.madpy.com\">slack.madpy.com</a></td>\n",
    "  </tr>\n",
    "  <tr style=\"background-color: transparent; border: none;\">\n",
    "    <td style=\"border: none;\"><img src=\"img/linkedin-logo.png\" alt=\"LinkedIn\" style=\"width: 25px;\" /></td><td style=\"vertical-align: middle; border: none;\"><a href=\"https://linkedin.com/company/madpy\">linkedin.com/company/madpy</a></td>\n",
    "  </tr>\n",
    "</table>\n"
   ]
  },
  {
   "cell_type": "markdown",
   "metadata": {
    "editable": true,
    "slideshow": {
     "slide_type": "slide"
    },
    "tags": []
   },
   "source": [
    "# The Best Way to Help MadPy\n",
    "\n",
    "### Talk to your employer about Sponsorship!"
   ]
  },
  {
   "cell_type": "markdown",
   "metadata": {
    "editable": true,
    "slideshow": {
     "slide_type": "slide"
    },
    "tags": []
   },
   "source": [
    "<img src=\"https://madpy.com/static/images/2025-06-12-Debugging-Open-Source-Social-Card-1413x953.png\" alt=\"Logo for the MadPy talk\" />"
   ]
  }
 ],
 "metadata": {
  "kernelspec": {
   "display_name": "Python 3 (ipykernel)",
   "language": "python",
   "name": "python3"
  },
  "language_info": {
   "codemirror_mode": {
    "name": "ipython",
    "version": 3
   },
   "file_extension": ".py",
   "mimetype": "text/x-python",
   "name": "python",
   "nbconvert_exporter": "python",
   "pygments_lexer": "ipython3",
   "version": "3.14.0b1"
  }
 },
 "nbformat": 4,
 "nbformat_minor": 4
}
