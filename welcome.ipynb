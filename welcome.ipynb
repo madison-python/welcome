{
 "cells": [
  {
   "cell_type": "markdown",
   "metadata": {
    "slideshow": {
     "slide_type": "slide"
    }
   },
   "source": [
    "<h1><center>Welcome to Madpy!</center></h1>\n",
    "<br>\n",
    "<center><img src=\"img/madpy-logo.png\" alt=\"The Madpy Magpy\" width=\"35%\"/></center>"
   ]
  },
  {
   "cell_type": "markdown",
   "metadata": {
    "slideshow": {
     "slide_type": "slide"
    }
   },
   "source": [
    "# Code of conduct\n",
    "\n",
    "**Madpy is a community group** and open to all experience levels. We are committed to **a safe, professional environment**.\n",
    "\n",
    "**Questions and comments** supporting the speaker are encouraged. **Interruptions and criticisms** of the speaker are not.\n",
    "\n",
    "\n",
    "https://github.com/madison-python/code-of-conduct"
   ]
  },
  {
   "cell_type": "markdown",
   "metadata": {
    "slideshow": {
     "slide_type": "slide"
    }
   },
   "source": [
    "# Organizers\n",
    "\n",
    "- Pierce Edmiston\n",
    "- Willy Hakizimana\n",
    "- James Bourbeau"
   ]
  },
  {
   "cell_type": "markdown",
   "metadata": {
    "slideshow": {
     "slide_type": "slide"
    }
   },
   "source": [
    "<h1><center>Sponsor 🍕🍕</center></h1>\n",
    "<br>\n",
    "<center><img src=\"img/8th-light-logo.png\" alt=\"sponsor logo\" width=\"45%\"/></center>"
   ]
  },
  {
   "cell_type": "markdown",
   "metadata": {
    "slideshow": {
     "slide_type": "slide"
    }
   },
   "source": [
    "# Want more Madpy?\n",
    "\n",
    "### General information\n",
    "\n",
    "- Website: [madpy.com](https://madpy.com)\n",
    "- Meetup.com page: [meetup.com/madpython](https://meetup.com/madpython)\n",
    "- GitHub: [github.com/madison-python](https://github.com/madison-python)"
   ]
  },
  {
   "cell_type": "markdown",
   "metadata": {
    "slideshow": {
     "slide_type": "fragment"
    }
   },
   "source": [
    "### Community dicussion on Slack\n",
    "\n",
    "- [slack.madpy.com](https://slack.madpy.com/) to sign up\n",
    "- [madpy.slack.com](https://madpy.slack.com/) to sign in"
   ]
  },
  {
   "cell_type": "markdown",
   "metadata": {
    "slideshow": {
     "slide_type": "fragment"
    }
   },
   "source": [
    "### Subscribe to our googlegroups\n",
    "\n",
    "Send a blank email to: madpy+subscribe@googlegroups.com"
   ]
  },
  {
   "cell_type": "markdown",
   "metadata": {
    "slideshow": {
     "slide_type": "slide"
    }
   },
   "source": [
    "# Madpy meetings\n",
    "\n",
    "### If you have you have an idea for a talk you'd like to give, please reach out to Pierce or James"
   ]
  },
  {
   "cell_type": "markdown",
   "metadata": {
    "slideshow": {
     "slide_type": "fragment"
    }
   },
   "source": [
    "<center><h4>🥖 🥖 Your reward is a delicious loaf of homemade sourdough bread 🥖 🥖</h4></center>\n",
    "<br>\n",
    "<center><img src=\"img/bread.png\" alt=\"BREAD!\" width=\"45%\"/></center>"
   ]
  },
  {
   "cell_type": "markdown",
   "metadata": {
    "slideshow": {
     "slide_type": "slide"
    }
   },
   "source": [
    "# Madpy Calendar\n",
    "\n",
    "- January 9: \"Interactive Visualizations with Python\" by Zach Griffith\n",
    "\n",
    "- February 6: TBD\n",
    "\n",
    "- March 12: \"pytest\" by Josh Karpel\n",
    "\n",
    "- April 9: \"HDF + NetCFD + Zarr for array storage in Python\" by David Hoese and James Bourbeau"
   ]
  }
 ],
 "metadata": {
  "kernelspec": {
   "display_name": "Python 3",
   "language": "python",
   "name": "python3"
  },
  "language_info": {
   "codemirror_mode": {
    "name": "ipython",
    "version": 3
   },
   "file_extension": ".py",
   "mimetype": "text/x-python",
   "name": "python",
   "nbconvert_exporter": "python",
   "pygments_lexer": "ipython3",
   "version": "3.7.6"
  }
 },
 "nbformat": 4,
 "nbformat_minor": 4
}
