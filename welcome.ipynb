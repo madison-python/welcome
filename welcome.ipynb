{
 "cells": [
  {
   "cell_type": "markdown",
   "metadata": {
    "editable": true,
    "slideshow": {
     "slide_type": "slide"
    },
    "tags": []
   },
   "source": [
    "<h1><center>Welcome to MadPy!</center></h1>\n",
    "<br>\n",
    "<center><img src=\"img/madpy-logo.png\" alt=\"The MadPy Magpie\" width=\"35%\"/></center>"
   ]
  },
  {
   "cell_type": "markdown",
   "metadata": {
    "editable": true,
    "slideshow": {
     "slide_type": "skip"
    },
    "tags": []
   },
   "source": [
    "<style>\n",
    "table,td,tr,th {border:none!important}\n",
    "</style>"
   ]
  },
  {
   "cell_type": "markdown",
   "metadata": {
    "editable": true,
    "jp-MarkdownHeadingCollapsed": true,
    "slideshow": {
     "slide_type": "slide"
    },
    "tags": []
   },
   "source": [
    "# Organizers\n",
    "\n",
    "<table style=\"border:none; border-collapse:collapse; cellspacing:0; cellpadding:0\">\n",
    "  <tr>\n",
    "    <td><img src=\"img/edrogers.jpg\" alt=\"Ed Rogers\" style=\"width: 300px;\" /></td>\n",
    "    <td><img src=\"img/djhoese.jpg\" alt=\"David Hoese\" style=\"width: 300px;\" /></td>\n",
    "    <td><img src=\"img/joshkarpel.jpg\" alt=\"Josh Karpel\" style=\"width: 300px;\" /></td>\n",
    "  </tr><tr>\n",
    "    <td><p class=\"caption\">Ed Rogers</p></td>\n",
    "    <td><p class=\"caption\">David Hoese</p></td>\n",
    "    <td><p class=\"caption\">Josh Karpel</p></td>\n",
    "  </tr>\n",
    "</table>"
   ]
  },
  {
   "cell_type": "markdown",
   "metadata": {
    "editable": true,
    "slideshow": {
     "slide_type": "slide"
    },
    "tags": []
   },
   "source": [
    "# Code of Conduct\n",
    "\n",
    "**MadPy is a community group** and open to all experience levels. We are committed to **a safe, professional environment**\n",
    "\n",
    "### Our Commitment to You\n",
    "\n",
    "We are enthusiastically focused on improving our event and making it a place that is welcoming to all. All reports will be taken seriously, handled respectfully, and dealt with in a timely manner.\n",
    "\n",
    "Learn more about the MadPy Code of Conduct:\n",
    "\n",
    "https://github.com/madison-python/code-of-conduct\n"
   ]
  },
  {
   "cell_type": "markdown",
   "metadata": {
    "editable": true,
    "slideshow": {
     "slide_type": "slide"
    },
    "tags": []
   },
   "source": [
    "# Madison Voter Life Hack\n",
    "\n",
    "<center>\n",
    "    Request your absentee ballot<br /><br />\n",
    "    <img src=\"img/myvote-qr-code.png\" alt=\"QR Code version of MyVote WI link\" style=\"width: auto; height: 200px;\"/><img src=\"https://myvote.wi.gov/Portals/0/Images/MyVote.png\" alt=\"MyVote WI Logo\" style=\"width: auto; height: 200px;\"/><br />\n",
    "    <br />\n",
    "    <a href=\"https://myvote.wi.gov/en-us/Vote-Absentee-By-Mail\">https://myvote.wi.gov/en-us/Vote-Absentee-By-Mail</a>\n",
    "</center>"
   ]
  },
  {
   "cell_type": "markdown",
   "metadata": {
    "editable": true,
    "slideshow": {
     "slide_type": "slide"
    },
    "tags": []
   },
   "source": [
    "# Python Warm-up\n",
    "\n",
    "What will this print?"
   ]
  },
  {
   "cell_type": "code",
   "execution_count": null,
   "metadata": {
    "editable": true,
    "slideshow": {
     "slide_type": "subslide"
    },
    "tags": []
   },
   "outputs": [],
   "source": [
    "def add_x(items, x):\n",
    "    items += range(x)\n",
    "    return items\n",
    "\n",
    "items = [1]\n",
    "added = add_x(items, 3)\n",
    "print(added)"
   ]
  },
  {
   "cell_type": "markdown",
   "metadata": {
    "editable": true,
    "slideshow": {
     "slide_type": "fragment"
    },
    "tags": []
   },
   "source": [
    "```\n",
    "[1, 0, 1, 2]\n",
    "```"
   ]
  },
  {
   "cell_type": "markdown",
   "metadata": {
    "editable": true,
    "slideshow": {
     "slide_type": "slide"
    },
    "tags": []
   },
   "source": [
    "# Python Warm-up\n",
    "\n",
    "How about this?"
   ]
  },
  {
   "cell_type": "code",
   "execution_count": null,
   "metadata": {
    "editable": true,
    "slideshow": {
     "slide_type": "subslide"
    },
    "tags": []
   },
   "outputs": [],
   "source": [
    "def add_y(items, y):\n",
    "    items = items + range(y)\n",
    "    return items\n",
    "\n",
    "items = [1]\n",
    "added = add_y(items, 3)\n",
    "print(added)"
   ]
  },
  {
   "cell_type": "markdown",
   "metadata": {
    "editable": true,
    "slideshow": {
     "slide_type": "fragment"
    },
    "tags": []
   },
   "source": [
    "```\n",
    "---------------------------------------------------------------------------\n",
    "TypeError                                 Traceback (most recent call last)\n",
    "Cell In[6], line 6\n",
    "      3     return items\n",
    "      5 items = [1]\n",
    "----> 6 added = add_y(items, 3)\n",
    "      7 print(added)\n",
    "\n",
    "Cell In[6], line 2, in add_y(items, y)\n",
    "      1 def add_y(items, y):\n",
    "----> 2     items = items + range(y)\n",
    "      3     return items\n",
    "\n",
    "TypeError: can only concatenate list (not \"range\") to list\n",
    "```"
   ]
  },
  {
   "cell_type": "markdown",
   "metadata": {
    "editable": true,
    "slideshow": {
     "slide_type": "slide"
    },
    "tags": []
   },
   "source": [
    "# Sponsor\n",
    "\n",
    "<center><img src=\"img/verve-logo.png\" alt=\"Sponsor Logo: Verve Industrial\" width=\"500px\"/></center>"
   ]
  },
  {
   "cell_type": "markdown",
   "metadata": {
    "editable": true,
    "slideshow": {
     "slide_type": "slide"
    },
    "tags": []
   },
   "source": [
    "# Want more MadPy?\n",
    "\n",
    "\n",
    "<table style=\"border:none; border-collapse:collapse; cellspacing:0; cellpadding:0\">\n",
    "  <tr style=\"background-color: transparent; border: none;\">\n",
    "    <td style=\"border: none;\"><img src=\"img/madpy-logo.png\" alt=\"MadPy\" style=\"width: 45px;\" /></td><td style=\"vertical-align: middle; border: none;\"><b><a href=\"https://madpy.com\">madpy.com</a></b></td>\n",
    "  </tr>\n",
    "  <tr style=\"background-color: transparent; border: none;\">\n",
    "    <td style=\"border: none;\"><img src=\"https://www.meetup.com/favicon.ico\" alt=\"Meetup\" style=\"width: 25px;\" /></td><td style=\"vertical-align: middle; border: none;\"><a href=\"https://www.meetup.com/madpython/\">meetup.com/madpython</a></td>\n",
    "  </tr>\n",
    "  <tr style=\"background-color: transparent; border: none;\">\n",
    "    <td style=\"border: none;\"><img src=\"https://www.github.com/favicon.ico\" alt=\"GitHub\" style=\"width: 25px;\" /></td><td style=\"vertical-align: middle; border: none;\"><a href=\"https://github.com/madison-python\">github.com/madison-python</a></td>\n",
    "  </tr>\n",
    "  <tr style=\"background-color: transparent; border: none;\">\n",
    "    <td style=\"border: none;\"><img src=\"https://fosstodon.org/favicon.ico\" alt=\"Mastodon\" style=\"width: 25px;\" /></td><td style=\"vertical-align: middle; border: none;\"><a href=\"https://fosstodon.org/@madpy\">fosstodon.org/@madpy</a></td>\n",
    "  </tr>\n",
    "  <tr style=\"background-color: transparent; border: none;\">\n",
    "    <td style=\"border: none;\"><img src=\"https://www.slack.com/favicon.ico\" alt=\"Slack\" style=\"width: 25px;\" /></td><td style=\"vertical-align: middle; border: none;\"><a href=\"https://slack.madpy.com\">slack.madpy.com</a></td>\n",
    "  </tr>\n",
    "  <tr style=\"background-color: transparent; border: none;\">\n",
    "    <td style=\"border: none;\"><img src=\"https://www.linkedin.com/favicon.ico\" alt=\"LinkedIn\" style=\"width: 25px;\" /></td><td style=\"vertical-align: middle; border: none;\"><a href=\"https://linkedin.com/company/madpy\">linkedin.com/company/madpy</a></td>\n",
    "  </tr>\n",
    "</table>\n"
   ]
  },
  {
   "cell_type": "markdown",
   "metadata": {
    "editable": true,
    "slideshow": {
     "slide_type": "slide"
    },
    "tags": []
   },
   "source": [
    "# The Best Way to Help MadPy\n",
    "\n",
    "### Talk to your employer about Sponsorship!"
   ]
  },
  {
   "cell_type": "markdown",
   "metadata": {
    "editable": true,
    "slideshow": {
     "slide_type": "slide"
    },
    "tags": []
   },
   "source": [
    "# MadPy Calendar\n",
    "\n",
    "**2nd Thursdays of the Month**\n",
    "<table style=\"width: 100%; table-layout: fixed; border:none; border-collapse:collapse; cellspacing:0; cellpadding:0\">\n",
    "    <tr>\n",
    "        <td style=\"width: 33%; text-align: center;\">\n",
    "            <img src=\"img/Unknown-Social-Card.png\" alt=\"TBD\" style=\"width: 100%; height: auto;\">\n",
    "        </td>\n",
    "        <td style=\"width: 33%; text-align: center;\">\n",
    "            <img src=\"img/Unknown-Social-Card.png\" alt=\"TBD\" style=\"width: 100%; height: auto;\">\n",
    "        </td>\n",
    "        <td style=\"width: 33%; text-align: center;\">\n",
    "            <img src=\"img/Unknown-Social-Card.png\" alt=\"TBD\" style=\"width: 100%; height: auto;\">\n",
    "        </td>\n",
    "    </tr>\n",
    "    <tr>\n",
    "        <td style=\"text-align: center;\">October 10th</td>\n",
    "        <td style=\"text-align: center;\">November 14th</td>\n",
    "        <td style=\"text-align: center;\">December 12th</td>\n",
    "    </tr>\n",
    "</table>"
   ]
  }
 ],
 "metadata": {
  "kernelspec": {
   "display_name": "Python 3 (ipykernel)",
   "language": "python",
   "name": "python3"
  },
  "language_info": {
   "codemirror_mode": {
    "name": "ipython",
    "version": 3
   },
   "file_extension": ".py",
   "mimetype": "text/x-python",
   "name": "python",
   "nbconvert_exporter": "python",
   "pygments_lexer": "ipython3",
   "version": "3.12.3"
  }
 },
 "nbformat": 4,
 "nbformat_minor": 4
}
